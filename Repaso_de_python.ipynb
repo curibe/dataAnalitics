{
 "cells": [
  {
   "cell_type": "markdown",
   "metadata": {},
   "source": [
    "[![Open In Colab](https://colab.research.google.com/assets/colab-badge.svg)](https://colab.research.google.com/github/curibe/dataAnalytics/blob/master/Repaso_de_python.ipynb)\n",
    "\n",
    "[![Binder](http://mybinder.org/badge_logo.svg)](https://mybinder.org/v2/gh/curibe/dataAnalytics/master?filepath=Repaso_de_python.ipynb)"
   ]
  },
  {
   "cell_type": "markdown",
   "metadata": {},
   "source": [
    "# Python básico\n"
   ]
  },
  {
   "cell_type": "markdown",
   "metadata": {},
   "source": [
    "En este notebook se hará un repaso de las estructuras básicas de algoritmia y de los comandos básicos de python\n",
    "Estas bases algoritmicas son comunes a cualquier lenguaje de programación, solo lo direrencia la sintaxis usada por\n",
    "cada lenguaje.\n",
    "\n",
    "Python es un lenguaje de programacion de alto nivel que ha tenido mucha acojida en la comunidad cientifica en los ultimos años. Su facilidad y versatilidad lo convierte tambien en una herramienta para aquellos que apenas comienzan en el mundo de la ciencia de la computación.\n",
    "\n",
    "[Pagina oficial](https://www.python.org/)\n",
    "\n",
    "Para programar en python, los programas o las instrucciones se escriben en un archivo de texto plano (comunmente llamado **script**) y para ejecutarse, se hace uso del interprete python. Un interprete lee un programa de alto nivel y lo ejecuta, lo que significa que lleva a cabo lo que indica el programa.Traduce el programa poco a poco, leyendo y ejecutando cada comando y linea del script.\n",
    "\n",
    "Suponga que tiene un script de python llamado _mi_primer_programa.py_. Para ejecutarlo en la linea de comandos, ejecuta lo siguiente:\n",
    "\n",
    "> $ python mi_primer_programa.py\n",
    "\n",
    "Como cualquier lenguaje de programación, python hace uso de palabras reservadas propias para ejecutar ordenes especificas. Sin embargo, la estructura general de un programa en python es similar a la de cualquier programa escrito en otro lenguaje (tenga en cuenta una cosa es la estructura del programa y otra es la sintaxis). En esta parte veremos los comandos u ordenes básicas en python:"
   ]
  },
  {
   "cell_type": "markdown",
   "metadata": {},
   "source": [
    " 1. [Operaciones básicas](#Operaciones-básicas)\n",
    " 2. [Salida en pantalla](#Salida-en-pantalla) \n",
    " 3. [Entrada por teclado](#Entrada-por-teclado)\n",
    " 4. [Condicionales](#Condicionales)\n",
    " 5. [Ciclos](#Ciclos)\n",
    " 6. [Rutinas](#Rutinas)\n",
    " 7. [Importar librerias](#Importar-librerias)"
   ]
  },
  {
   "cell_type": "markdown",
   "metadata": {},
   "source": [
    "## Operaciones básicas"
   ]
  },
  {
   "cell_type": "markdown",
   "metadata": {},
   "source": [
    "En python se pueden hacer operaciones basicas como en una calculadora. Cuando son mas de una operacion en una linea, hay que tener en cuenta las **reglas de precedencia** (orden en que se ejecutan las operaciones en una expresion matemática): *division, multiplicación, suma/resta*\n",
    "\n",
    "Noten que para evitar confusiones y por ende errores en la operación, se hace uso del parentesis. A continuacion se muestran algunos ejemplos"
   ]
  },
  {
   "cell_type": "markdown",
   "metadata": {},
   "source": [
    "Primer valor: $\\hspace{1cm}$ $a-\\dfrac{b}{c} + d$"
   ]
  },
  {
   "cell_type": "code",
   "execution_count": 2,
   "metadata": {},
   "outputs": [
    {
     "data": {
      "text/plain": [
       "6.0"
      ]
     },
     "execution_count": 2,
     "metadata": {},
     "output_type": "execute_result"
    }
   ],
   "source": [
    "4.0 - 5.0/2.5 + 4.0"
   ]
  },
  {
   "cell_type": "markdown",
   "metadata": {},
   "source": [
    "Segundo valor: $\\hspace{1cm}$ $\\dfrac{(a-b)}{c} + d$\n"
   ]
  },
  {
   "cell_type": "code",
   "execution_count": 3,
   "metadata": {},
   "outputs": [
    {
     "data": {
      "text/plain": [
       "3.6"
      ]
     },
     "execution_count": 3,
     "metadata": {},
     "output_type": "execute_result"
    }
   ],
   "source": [
    "(4.0 - 5.0)/2.5 + 4.0"
   ]
  },
  {
   "cell_type": "markdown",
   "metadata": {},
   "source": [
    "Tercer valor: $\\hspace{1cm}$ $\\dfrac{(a-b)}{(c+d)}$"
   ]
  },
  {
   "cell_type": "code",
   "execution_count": 4,
   "metadata": {},
   "outputs": [
    {
     "data": {
      "text/plain": [
       "-0.15384615384615385"
      ]
     },
     "execution_count": 4,
     "metadata": {},
     "output_type": "execute_result"
    }
   ],
   "source": [
    "(4.0 - 5.0)/(2.5 + 4.0)"
   ]
  },
  {
   "cell_type": "markdown",
   "metadata": {},
   "source": [
    "Cuarto valor: $\\hspace{1cm}$ $\\dfrac{(a-b)}{(c\\times d)}$"
   ]
  },
  {
   "cell_type": "code",
   "execution_count": 5,
   "metadata": {},
   "outputs": [
    {
     "data": {
      "text/plain": [
       "-0.1"
      ]
     },
     "execution_count": 5,
     "metadata": {},
     "output_type": "execute_result"
    }
   ],
   "source": [
    "(4.0 - 5.0)/(2.5 * 4.0)"
   ]
  },
  {
   "cell_type": "markdown",
   "metadata": {},
   "source": [
    "Quinto valor: $\\hspace{1cm}$ $\\dfrac{(a-b)}{c}\\times d$"
   ]
  },
  {
   "cell_type": "code",
   "execution_count": 6,
   "metadata": {},
   "outputs": [
    {
     "data": {
      "text/plain": [
       "-1.6"
      ]
     },
     "execution_count": 6,
     "metadata": {},
     "output_type": "execute_result"
    }
   ],
   "source": [
    "(4.0 - 5.0)/2.5 * 4.0"
   ]
  },
  {
   "cell_type": "markdown",
   "metadata": {},
   "source": [
    "El computador no es capaz de detectar el error en la operación, puesto que para el, cada una de ellas es matemáticamente válida. Tenga presente que **el computador no va a solucionar sus errores. Deben tener cuidado con la operacion que quieren realizar puesto que el computador va a hacer exactamente lo que ud le escriba**\n",
    "\n",
    "Hasta el momento efectuamos las operaciones de manera directa, pero cada uno de esos valores puede ser almacenado en una **variable** y efectuar la operación. El resultado final tambien puede ser almacenado en una variable. Por ejemplo:"
   ]
  },
  {
   "cell_type": "code",
   "execution_count": 9,
   "metadata": {},
   "outputs": [],
   "source": [
    "a = 4.0\n",
    "b = 5.0\n",
    "c = 2.5\n",
    "d = 4.0\n",
    "e = (a-b)/c*d"
   ]
  },
  {
   "cell_type": "markdown",
   "metadata": {},
   "source": [
    "Miremos el valor contenido en la variable **e**:"
   ]
  },
  {
   "cell_type": "code",
   "execution_count": 11,
   "metadata": {},
   "outputs": [
    {
     "data": {
      "text/plain": [
       "-1.6"
      ]
     },
     "execution_count": 11,
     "metadata": {},
     "output_type": "execute_result"
    }
   ],
   "source": [
    "e"
   ]
  },
  {
   "cell_type": "markdown",
   "metadata": {},
   "source": [
    "Note tambíen que en un notebook de jupyter, puede visualizar el resultado de las operaciones sin necesidad de tener que imprimir en pantalla, como ocurre con un script. Sin embargo solo se puede ver el ultimo resultado:"
   ]
  },
  {
   "cell_type": "code",
   "execution_count": 12,
   "metadata": {},
   "outputs": [
    {
     "data": {
      "text/plain": [
       "8"
      ]
     },
     "execution_count": 12,
     "metadata": {},
     "output_type": "execute_result"
    }
   ],
   "source": [
    "5+3"
   ]
  },
  {
   "cell_type": "code",
   "execution_count": 13,
   "metadata": {},
   "outputs": [
    {
     "data": {
      "text/plain": [
       "7"
      ]
     },
     "execution_count": 13,
     "metadata": {},
     "output_type": "execute_result"
    }
   ],
   "source": [
    "2+6\n",
    "5+2"
   ]
  },
  {
   "cell_type": "markdown",
   "metadata": {},
   "source": [
    "---\n",
    "##   Salida en pantalla"
   ]
  },
  {
   "cell_type": "markdown",
   "metadata": {},
   "source": [
    "Para mostrar un mensaje en pantalla, se hace uso de la función ***print***. En el ejemplo siguiente se muestran varios usos de la funcion ***print*** en una sola celda, asi como en un script. Nose que el resultado final muestra el resultado de cada uno de los comandos. Noten tambien que las lineas que comienzan con el simbolo **#** no se muestran en pantalla (son para comentar el código y el interprete las ignora al momento de la ejecución)"
   ]
  },
  {
   "cell_type": "code",
   "execution_count": 14,
   "metadata": {},
   "outputs": [
    {
     "name": "stdout",
     "output_type": "stream",
     "text": [
      "Hola a todos\n",
      "1.43 2 3.4299999999999997\n",
      "a= 1.43  b= 2  c= 3.4299999999999997\n",
      "a=1.430000  b=2  c=   3.430\n",
      "forma Variable concatenada:  hola  nuevamente\n",
      "\n",
      "Este es \n",
      "un mensaje en \n",
      "varias lineas\n",
      "============================================================\n",
      "Nuevamente estoy\n",
      "mostrando un mensaje\n",
      "en varias lineas\n",
      "pero con otra forma de sintaxis\n",
      "C: 13.098000\n",
      "suma: 9.000000\n",
      "============================================================\n"
     ]
    }
   ],
   "source": [
    "# Forma 1 de mostrar mensaje en pantalla\n",
    "print(\"Hola a todos\")\n",
    "\n",
    "# Asignacion de variables\n",
    "a=1.43\n",
    "b=2\n",
    "c=a+b\n",
    "\n",
    "#---------------------------------------------\n",
    "\n",
    "\n",
    "\"\"\"\n",
    "Forma 2: mostrar valores de variables\n",
    "Se muestran los valores de una forma sencilla\n",
    "\"\"\"\n",
    "print(a,b,c)\n",
    "\n",
    "#---------------------------------------------\n",
    "\n",
    "\n",
    "# Forma 3: mostrar valores de variables\n",
    "print( \"a=\", a, \" b=\", b, \" c=\", c )\n",
    "\n",
    "\n",
    "#---------------------------------------------\n",
    "\n",
    "# Forma 4: mostrar valores de variables\n",
    "# Se hace uso de especificadores de formato\n",
    "print(\"a=%f  b=%d  c=%8.3f\"%(a,b,c))\n",
    "\n",
    "\n",
    "#===============================\n",
    "# Se redefinen las variables\n",
    "#===============================\n",
    "\n",
    "# Aqui el operador \"+\" esta sobrecargado\n",
    "# porque se pueden sumar tiras de caracteres\n",
    "a='hola '\n",
    "b=' nuevamente'\n",
    "c=a+b\n",
    "\n",
    "print(\"forma Variable concatenada:  %s\"%c)\n",
    "\n",
    "\n",
    "#---------------------------------------------\n",
    "\n",
    "# Forma 5: mostrar mensaje en varias lineas\n",
    "# Se hace uso de la secuencia de escape \"\\n\"\n",
    "print(\"\\nEste es \\nun mensaje en \\nvarias lineas\")\n",
    "\n",
    "\n",
    "#---------------------------------------------\n",
    "\n",
    "# Forma 6: otra forma de mostrar mensaje en varias lineas\n",
    "c=13.098\n",
    "\n",
    "print(\"=\"*60)    # En la pantalla aparece el simbolo \"=\" 60 veces, en una sola linea\n",
    "print('''Nuevamente estoy\n",
    "mostrando un mensaje\n",
    "en varias lineas\n",
    "pero con otra forma de sintaxis\n",
    "C: %f\n",
    "suma: %f'''%(c,4.5+4.5))\n",
    "\n",
    "print(\"=\"*60)\n",
    "\n",
    "#---------------------------------------------"
   ]
  },
  {
   "cell_type": "markdown",
   "metadata": {},
   "source": [
    "En la anterior celda se muestra el uso estandar de la funcion print. Sin embargo, desde la version de python 3.5, se introdujo otra forma de formatear la salida, sin necesidad de usar los especificadores de formato:"
   ]
  },
  {
   "cell_type": "code",
   "execution_count": 46,
   "metadata": {},
   "outputs": [
    {
     "name": "stdout",
     "output_type": "stream",
     "text": [
      "a: 1  b: my message\n"
     ]
    }
   ],
   "source": [
    "a = 1\n",
    "b = \"my message\"\n",
    "c= 5/4\n",
    "print(\"a: {}  b: {}\".format(a,b))"
   ]
  },
  {
   "cell_type": "markdown",
   "metadata": {},
   "source": [
    "Como no se especifica el formato o tipo de dato, se puede intercambiar:"
   ]
  },
  {
   "cell_type": "code",
   "execution_count": 47,
   "metadata": {},
   "outputs": [
    {
     "name": "stdout",
     "output_type": "stream",
     "text": [
      "a: my message  b: 1\n"
     ]
    }
   ],
   "source": [
    "print(\"a: {}  b: {}\".format(b,a))"
   ]
  },
  {
   "cell_type": "code",
   "execution_count": 48,
   "metadata": {},
   "outputs": [
    {
     "name": "stdout",
     "output_type": "stream",
     "text": [
      "a: 1  b: my message\n",
      "a: my message  b: 1\n"
     ]
    }
   ],
   "source": [
    "print(\"a: {0}  b: {1}\".format(a,b))\n",
    "print(\"a: {1}  b: {0}\".format(a,b))"
   ]
  },
  {
   "cell_type": "markdown",
   "metadata": {},
   "source": [
    "De la misma forma que con especificadores de formato, se le puede dar formato a la salida:"
   ]
  },
  {
   "cell_type": "code",
   "execution_count": 43,
   "metadata": {},
   "outputs": [
    {
     "name": "stdout",
     "output_type": "stream",
     "text": [
      "info 1:            contenido !!!\n",
      "info 2: contenido            !!!\n",
      "info 3:      contenido       !!!\n",
      "info 4: contenido!!!!!!!!!!! !!!\n",
      "info 5: !!!!!!!!!!!contenido !!!\n",
      "info 6: con                  !!!\n",
      "info 8 :                3.142 !!!\n",
      "info 8 : 3.142                !!!\n",
      "info 8 :             3.141593 !!!\n"
     ]
    }
   ],
   "source": [
    "print(\"info 1: {:>20} !!!\".format(\"contenido\"))\n",
    "print(\"info 2: {:20} !!!\".format(\"contenido\"))\n",
    "print(\"info 3: {:^20} !!!\".format(\"contenido\"))\n",
    "print(\"info 4: {:!<20} !!!\".format(\"contenido\"))\n",
    "print(\"info 5: {:!>20} !!!\".format(\"contenido\"))\n",
    "print(\"info 6: {:20.3} !!!\".format(\"contenido\"))\n",
    "print(\"info 8 : {:20.4} !!!\".format(3.141592654))\n",
    "print(\"info 8 : {:<20.4} !!!\".format(3.141592654))\n",
    "print(\"info 8 : {:20f} !!!\".format(3.141592654))"
   ]
  },
  {
   "cell_type": "markdown",
   "metadata": {},
   "source": [
    "Para mas ejemplos, puede consultar el siguiente [link](https://pyformat.info/)"
   ]
  },
  {
   "cell_type": "markdown",
   "metadata": {},
   "source": [
    "A partir de la version 3.7 de python, se introdujo otro tipo de formato para pythoon, conocido como f-string:"
   ]
  },
  {
   "cell_type": "code",
   "execution_count": 55,
   "metadata": {},
   "outputs": [
    {
     "name": "stdout",
     "output_type": "stream",
     "text": [
      " a: mensaje 1 b: 1.23456789 c: True\n",
      " a: mensaje 1 b:       1.23457        c: True\n"
     ]
    }
   ],
   "source": [
    "a = \"mensaje 1\"\n",
    "b = 1.23456789\n",
    "c = True\n",
    "print(f\" a: {a} b: {b} c: {c}\")\n",
    "print(f\" a: {a} b: {b:^20.5f} c: {c}\")"
   ]
  },
  {
   "cell_type": "markdown",
   "metadata": {},
   "source": [
    "---\n",
    "## Entrada por teclado"
   ]
  },
  {
   "cell_type": "markdown",
   "metadata": {},
   "source": [
    "En python 2.7 hay dos funciones que permiten leer los datos ingresados por el usuario a traves del teclado: <font color='red'>input</font> y  <font color='red'>raw_input</font>. Sin embargo, a partir de python 3.x, solo existe una funcion: <font color='red'>input</font>, la cual cumple la funcion de _raw_input_ de python 2.7"
   ]
  },
  {
   "cell_type": "code",
   "execution_count": 56,
   "metadata": {},
   "outputs": [
    {
     "name": "stdout",
     "output_type": "stream",
     "text": [
      "Ingrese el valor de la base\n",
      "20\n",
      "\n",
      "base:  20\n"
     ]
    }
   ],
   "source": [
    "print('Ingrese el valor de la base')\n",
    "\n",
    "# forma 1 de leer datos por teclado\n",
    "base = input()\n",
    "\n",
    "print(\"\\nbase: \",base)"
   ]
  },
  {
   "cell_type": "code",
   "execution_count": 58,
   "metadata": {},
   "outputs": [
    {
     "data": {
      "text/plain": [
       "('20', str)"
      ]
     },
     "execution_count": 58,
     "metadata": {},
     "output_type": "execute_result"
    }
   ],
   "source": [
    "base, type(base)"
   ]
  },
  {
   "cell_type": "markdown",
   "metadata": {},
   "source": [
    "Para convertir la entrada a un valor numérico, se hace la conversión o _casting_ (solo si el dato que se ingresa es un número). Note que dentro del input se puede escribir un mensaje de output para el usuario, por lo que no se requiere usar print:"
   ]
  },
  {
   "cell_type": "code",
   "execution_count": 59,
   "metadata": {},
   "outputs": [
    {
     "name": "stdout",
     "output_type": "stream",
     "text": [
      "Ingrese el valor de la altura: \n",
      "13\n"
     ]
    }
   ],
   "source": [
    "altura = float(input('Ingrese el valor de la altura: \\n'))"
   ]
  },
  {
   "cell_type": "code",
   "execution_count": 60,
   "metadata": {},
   "outputs": [
    {
     "data": {
      "text/plain": [
       "(13.0, float)"
      ]
     },
     "execution_count": 60,
     "metadata": {},
     "output_type": "execute_result"
    }
   ],
   "source": [
    "altura, type(altura)"
   ]
  },
  {
   "cell_type": "code",
   "execution_count": 63,
   "metadata": {},
   "outputs": [
    {
     "name": "stdout",
     "output_type": "stream",
     "text": [
      "Este programa calcula el area de un triangulo\n",
      "Ingrese el valor de la base (m): \n",
      "Ingrese valor de la base (m): \n",
      "3\n",
      "Ingrese el valor de la altura (m): \n",
      "4\n",
      "El area del triangulo con base b: 3.000 m y altura h: 4.000 m es 6.000 m^2\n"
     ]
    }
   ],
   "source": [
    "\n",
    "print(\"Este programa calcula el area de un triangulo\")\n",
    "\n",
    "# forma 1 de leer datos por teclado\n",
    "base = float(input(\"Ingrese valor de la base (m): \\n\"))\n",
    "\n",
    "# forma 2 de leer datos por teclado\n",
    "altura = float(input('Ingrese el valor de la altura (m): \\n'))\n",
    "\n",
    "# Se calcula el area\n",
    "Area= base*altura*0.5\n",
    "\n",
    "print(f\"El area del triangulo con base b: {base:.3f} m y altura h: {altura:.3f} m es {Area:.3f} m^2\")"
   ]
  },
  {
   "cell_type": "markdown",
   "metadata": {},
   "source": [
    "---\n",
    "\n",
    "## Condicionales"
   ]
  },
  {
   "cell_type": "markdown",
   "metadata": {},
   "source": [
    "Los condicionales son estructuras de control que sirven para que un programa \"tome decisiones\" acorde a alguna condicion dada.\n",
    "\n",
    "La sintaxis de un condicional en python esta dada por:\n",
    "\n",
    "```python\n",
    "if condicion:\n",
    "    accion1\n",
    "    accion2\n",
    "    accion3\n",
    "    .\n",
    "    .\n",
    "    .\n",
    "```\n",
    "\n",
    "O si son estructuras combinadas:\n",
    "\n",
    "\n",
    "\n",
    "```python\n",
    "#IF-ELSE:                             IF-ELIF-ELSE:                  IF-IF:\n",
    "#==============                       =================              ==============\n",
    "if condicion:                        if condicion1:                 if condicion1:\n",
    "    acciones                             acciones                       acciones\n",
    "else:                                elif condicion2:               if condicion2:\n",
    "    accion por defecto                   acciones                       acciones\n",
    "                                     elif condicion3:               .\n",
    "                                     .                              .\n",
    "                                     .                              .\n",
    "                                     .                              \n",
    "                                     else:\n",
    "                                         accion por defecto\n",
    "```"
   ]
  },
  {
   "cell_type": "markdown",
   "metadata": {},
   "source": [
    "A continuación se muestra un ejemplo donde se hace uso de los condicionales: se calcula la solución a una ecuacion cuadrática y hace uso de los condicionales para verificar todas las opciones posibles."
   ]
  },
  {
   "cell_type": "code",
   "execution_count": 65,
   "metadata": {},
   "outputs": [
    {
     "name": "stdout",
     "output_type": "stream",
     "text": [
      "Ingrese el valor de a: 9\n",
      "Ingrese el valor de b: 20\n",
      "Ingrese el valor de c: 4\n",
      "==================================================\n",
      "Las soluciones a la ecuación cuadratica son\n",
      "x1: -0.2222222222222222     x2: -2.0\n",
      "==================================================\n"
     ]
    }
   ],
   "source": [
    "a = float(input(\"Ingrese el valor de a: \"))\n",
    "b = float(input(\"Ingrese el valor de b: \"))\n",
    "c = float(input(\"Ingrese el valor de c: \"))\n",
    "\n",
    "if a != 0:\n",
    "    disc = b**2 - 4*a*c\n",
    "    if disc>0:\n",
    "        x1 = (-b + disc**0.5)/(2.0*a)\n",
    "        x2 = (-b - disc**0.5)/(2.0*a)\n",
    "        print(\"=\"*50)\n",
    "        print(\"Las soluciones a la ecuación cuadratica son\")\n",
    "        print(\"x1: {}     x2: {}\".format( x1, x2))\n",
    "        print(\"=\"*50)\n",
    "    else:\n",
    "        print(\"No hay soluciones reales\")\n",
    "else:\n",
    "    if b != 0:\n",
    "        x = -c/b\n",
    "        print(f\"La solucion de la ecuacion es x = {x:.3f} \")\n",
    "    else:\n",
    "        if c != 0:\n",
    "            print(\"La ecuacion no tiene solución\")\n",
    "        else:\n",
    "            print(\"La ecuacion tiene infinitas soluciones\")"
   ]
  },
  {
   "cell_type": "markdown",
   "metadata": {},
   "source": [
    "---\n",
    "## Ciclos"
   ]
  },
  {
   "cell_type": "markdown",
   "metadata": {},
   "source": [
    "Los ciclos son estructuras que sirven para hacer tareas repetitivas en un programa. En esta parte vamos a ver los dos ciclos utilizados en la mayoria de los lenguajes de programacion:\n",
    "\n",
    "  * Ciclo <font color='green'>for</font>\n",
    "  * Ciclo <font color='green'>while</font>"
   ]
  },
  {
   "cell_type": "markdown",
   "metadata": {},
   "source": [
    "### Ciclo while"
   ]
  },
  {
   "cell_type": "markdown",
   "metadata": {},
   "source": [
    "La sintaxis de ciclo _while_ en python es:\n",
    "\n",
    "```python\n",
    "while condicion:\n",
    "    ordenes\n",
    "\n",
    "```"
   ]
  },
  {
   "cell_type": "code",
   "execution_count": 71,
   "metadata": {},
   "outputs": [
    {
     "name": "stdout",
     "output_type": "stream",
     "text": [
      "Ingrese un numero:  2\n",
      "Desde que número quiere la tabla:  1\n",
      "Hasta que número quiere la tabla:  10\n",
      "\n",
      "************************TABLA DEL 2*************************\n",
      "2 x 1 = 2\n",
      "2 x 2 = 4\n",
      "2 x 3 = 6\n",
      "2 x 4 = 8\n",
      "2 x 5 = 10\n",
      "2 x 6 = 12\n",
      "2 x 7 = 14\n",
      "2 x 8 = 16\n",
      "2 x 9 = 18\n",
      "2 x 10 = 20\n"
     ]
    }
   ],
   "source": [
    "#====================================================================================================\n",
    "# Programa : TablaMultiplicar.py\n",
    "# Descripcion : Este programa calcula la tabla de multiplicar de un numero dado por el usuario\n",
    "#               El usuario puede ingresar los numeros inicial y final de la tabla\n",
    "#====================================================================================================\n",
    "\n",
    "\n",
    "a=int(input(\"Ingrese un numero:  \"))\n",
    "low = int(input(\"Desde que número quiere la tabla:  \"))\n",
    "up = int(input(\"Hasta que número quiere la tabla:  \"))\n",
    "\n",
    "print()\n",
    "print(\"TABLA DEL {}\".format(a).center(60,\"*\"))\n",
    "# Uso del ciclo while\n",
    "i=low\n",
    "while i<=up:\n",
    "    print(\"{} x {} = {}\".format(a,i,a*i)) #note que se pueden hacer operaciones en el parentesis\n",
    "    i+=1 # Esta linea es equivalente a escribir: i = i + 1"
   ]
  },
  {
   "attachments": {},
   "cell_type": "markdown",
   "metadata": {},
   "source": [
    "### Ciclo for"
   ]
  },
  {
   "cell_type": "markdown",
   "metadata": {},
   "source": [
    "Para el ciclo _for_ en python se hace uso de la funcion `range` que es un iterador que genera un rango de valores enteros:\n",
    "\n",
    "```python\n",
    "range(valor inicial,valor final, paso)\n",
    "```\n",
    "lo cual genera un iterador que recorre la siguiente secuencia: `valor inicial, valor inicial + paso, valor inicial +2*paso,...,valor final-paso`\n",
    "\n",
    "La sintaxis del ciclo es la siguiente:\n",
    "\n",
    "```python\n",
    "for variable in serie de valores:\n",
    "    accion\n",
    "    accion\n",
    "    ...\n",
    "    accion\n",
    "```\n",
    "\n",
    "\n",
    "Esta serie de valores puede ser una secuencia de números, las entradas de un arreglo (lista o tupla o diccionario). Por ejemplo:"
   ]
  },
  {
   "cell_type": "code",
   "execution_count": 73,
   "metadata": {},
   "outputs": [
    {
     "name": "stdout",
     "output_type": "stream",
     "text": [
      "i1:  0\n",
      "i1:  1\n",
      "i1:  2\n",
      "i1:  3\n",
      "i1:  4\n",
      "i2:  0\n",
      "i2:  1\n",
      "i2:  2\n",
      "i2:  3\n",
      "i2:  4\n"
     ]
    }
   ],
   "source": [
    "for i in range(5) :\n",
    "    print(\"i1: \",i)\n",
    "\n",
    "for i in range(0,5,1):\n",
    "    print(\"i2: \",i)\n"
   ]
  },
  {
   "cell_type": "code",
   "execution_count": 74,
   "metadata": {},
   "outputs": [
    {
     "name": "stdout",
     "output_type": "stream",
     "text": [
      "1\n",
      "30\n",
      "40.2\n",
      "hola\n"
     ]
    }
   ],
   "source": [
    "lista = [1, 30, 40.2, \"hola\"]\n",
    "for value in lista:\n",
    "    print(value)"
   ]
  },
  {
   "cell_type": "markdown",
   "metadata": {},
   "source": [
    "En este caso, el número de iteraciones es igual al número de elementos dentro del arreglo\n",
    "\n",
    "Veamos ahora un ejemplo sencillo: Calcular la suma de los n primeros numeros naturales. Verificaremos que \n",
    "$$\\sum_{i=1}^{n}i = \\frac{n(n+1)}{2}$$"
   ]
  },
  {
   "cell_type": "code",
   "execution_count": 77,
   "metadata": {},
   "outputs": [
    {
     "name": "stdout",
     "output_type": "stream",
     "text": [
      "La suma de los 50 primeros numeros es: 1275\n",
      "La suma de los 50 primeros numeros, con la formula es: 1275.0\n"
     ]
    }
   ],
   "source": [
    "n = 50\n",
    "suma = 0\n",
    "for i in range(1,n+1):\n",
    "    suma = suma + i\n",
    "print(\"La suma de los {} primeros numeros es: {}\".format(n,suma))\n",
    "print(\"La suma de los {} primeros numeros, con la formula es: {}\".format(n,n*(n+1)*0.5))"
   ]
  },
  {
   "cell_type": "markdown",
   "metadata": {},
   "source": [
    "---\n",
    "## Rutinas"
   ]
  },
  {
   "cell_type": "markdown",
   "metadata": {},
   "source": [
    "Una de las maneras mas practicas en programación para resolver un problema en programacion que sea complejo, es dividirlo en pequeñas partes o soluciones, hasta obtener el resultado final. Cada una de estas pequeñas \"soluciones\" son fragmentos de codigo que representan un pequeño programa y se les llama **rutina, modulo o funcion**. Una rutina o modulo se encarga de realizar una tarea especifica.\n",
    "\n",
    "Cuando se intenta resolver un problema de forma computacional, y este se subdivide en modulos, el uso secuencial de cada uno de ellos produce la solucion final del problema. A este modo de programar se le conoce como **programación modular**.\n",
    "\n",
    "La forma de definir una funcion/rutina/modulo en python es la siguiente:\n",
    "\n",
    "```python\n",
    "def Nombre_funcion(argumento1, argumento2, ..., argumento N):\n",
    "    ordenes\n",
    "    ...\n",
    "    return valor(es)\n",
    "```\n",
    "\n",
    "\n",
    "Por ejemplo:"
   ]
  },
  {
   "cell_type": "code",
   "execution_count": 79,
   "metadata": {},
   "outputs": [
    {
     "name": "stdout",
     "output_type": "stream",
     "text": [
      "Forma 1:  10.0\n",
      "Forma 2:  10.0\n",
      "Forma 3:  10.0\n"
     ]
    }
   ],
   "source": [
    "def funcion(x):\n",
    "    f = 3*x+1\n",
    "    return f\n",
    "\n",
    "# Forma 1 de llamarla:\n",
    "print(\"Forma 1: \",funcion(3.0))\n",
    "\n",
    "#forma 2:\n",
    "# El valor numerico esta almacenado en una variable\n",
    "x = 3.0\n",
    "print(\"Forma 2: \",funcion(x))\n",
    "\n",
    "#forma 3:\n",
    "# El valor resultante de la funcion se guarda en una variable\n",
    "F = funcion(x)\n",
    "print(\"Forma 3: \",F)"
   ]
  },
  {
   "cell_type": "markdown",
   "metadata": {},
   "source": [
    "Se pueden pasar mas argumentos a una funcion:"
   ]
  },
  {
   "cell_type": "code",
   "execution_count": 84,
   "metadata": {},
   "outputs": [
    {
     "data": {
      "text/plain": [
       "52.0"
      ]
     },
     "execution_count": 84,
     "metadata": {},
     "output_type": "execute_result"
    }
   ],
   "source": [
    "def funcion(x,a,b,c):\n",
    "    f = a*x**2 + b*x + c\n",
    "    return f\n",
    "\n",
    "a = 1.0\n",
    "b = 2.0\n",
    "c = 4.0\n",
    "x = 6.0\n",
    "funcion(x,a,b,c)"
   ]
  },
  {
   "cell_type": "markdown",
   "metadata": {},
   "source": [
    "Tambien se puede pasar una función a otra funcion (rutina como argumento de otra rutina). Por ejemplo, la siguiente funcion calcula la derivada de forma numérica de una función.\n",
    "\n",
    "La funcion es $f(x) = 4x^2+3x+2$ y se calculará la derivada numérica en el punto $x=3$"
   ]
  },
  {
   "cell_type": "code",
   "execution_count": 83,
   "metadata": {},
   "outputs": [
    {
     "data": {
      "text/plain": [
       "26.99999999999747"
      ]
     },
     "execution_count": 83,
     "metadata": {},
     "output_type": "execute_result"
    }
   ],
   "source": [
    "# Se define la funcion\n",
    "def F(x):\n",
    "    return (4*x**2 + 3*x + 2)\n",
    "\n",
    "# Se define la derivada numerica\n",
    "def dFdx(f,x0,h=1E-3):\n",
    "    dfdx = ( f(x0+h) - f(x0-h) ) /( 2*h )\n",
    "    return dfdx\n",
    "\n",
    "xp = 3.0\n",
    "dFdx(F,xp)"
   ]
  },
  {
   "cell_type": "markdown",
   "metadata": {},
   "source": [
    "---\n",
    "## Importar librerias"
   ]
  },
  {
   "cell_type": "markdown",
   "metadata": {},
   "source": [
    "Muchas veces uno tiene un conjunto de funciones o rutinas que pueden ser utiles en alguna situacion especifica, por ejemplo: rutinas que hagan operaciones vectorial, que calculen la derivada o la integral numérica, que hagan permutaciones, que resuelvan una ecuacion diferencial, que calcule los elementos orbitales de un sistema, que lean las condiciones iniciales de un problema.\n",
    "\n",
    "Una de las ventajas de python es que tiene muchas librerias que pueden ser implementadas para nuestros programas (no toca reinventar la rueda) y que ya estan optimizadas. Imaginen que python es como la estructura en la cual uds pueden crear su propio juguete, a su gusto.\n",
    "\n",
    "La forma de importar librerias en python es la siguiente:\n",
    "\n",
    "```python\n",
    "#============================================================\n",
    "# Forma 1\n",
    "# De esta forma se importan las funciones de una libreria\n",
    "#\n",
    "#  Forma de hacer uso de una funcion de la libreria : \n",
    "#\n",
    "#       libreria.funcion(args..)\n",
    "#============================================================\n",
    "import libreria\n",
    "\n",
    "#============================================================\n",
    "# Forma 2\n",
    "# Se importa la libreria pero con un acrónimo (nombre corto)\n",
    "# \n",
    "# Uso:\n",
    "#     nombre_corto.funcion(args...)\n",
    "#============================================================\n",
    "import libreria as nombre_corto\n",
    "\n",
    "#============================================================\n",
    "# Forma 3\n",
    "# Se importan solo algunas funciones de una libreria\n",
    "# \n",
    "# Uso:\n",
    "#     funcion(args...)\n",
    "#============================================================\n",
    "from libreria import rutina1,rutina2,...,rutinaN\n",
    "\n",
    "```"
   ]
  },
  {
   "cell_type": "markdown",
   "metadata": {},
   "source": [
    "#### Forma 1:"
   ]
  },
  {
   "cell_type": "markdown",
   "metadata": {},
   "source": [
    "Vamos a hacer uso de la libreria math, que contiene las funciones matemáticas básicas ([Pagina de las funciones de la libreria math]( https://docs.python.org/3.8/library/math.html )  )"
   ]
  },
  {
   "cell_type": "code",
   "execution_count": 88,
   "metadata": {},
   "outputs": [
    {
     "data": {
      "text/plain": [
       "1.4142135623730951"
      ]
     },
     "execution_count": 88,
     "metadata": {},
     "output_type": "execute_result"
    }
   ],
   "source": [
    "import math\n",
    "\n",
    "# Forma de llamar una funcion de la libreria\n",
    "math.sqrt(2)"
   ]
  },
  {
   "cell_type": "markdown",
   "metadata": {},
   "source": [
    "Noten que si se llama la funcion sqrt() solo con su nombre, se obtiene un error:"
   ]
  },
  {
   "cell_type": "code",
   "execution_count": 89,
   "metadata": {},
   "outputs": [
    {
     "ename": "NameError",
     "evalue": "name 'sqrt' is not defined",
     "output_type": "error",
     "traceback": [
      "\u001b[0;31m---------------------------------------------------------------------------\u001b[0m",
      "\u001b[0;31mNameError\u001b[0m                                 Traceback (most recent call last)",
      "\u001b[0;32m<ipython-input-89-66e338417901>\u001b[0m in \u001b[0;36m<module>\u001b[0;34m\u001b[0m\n\u001b[0;32m----> 1\u001b[0;31m \u001b[0msqrt\u001b[0m\u001b[0;34m(\u001b[0m\u001b[0;36m2\u001b[0m\u001b[0;34m)\u001b[0m\u001b[0;34m\u001b[0m\u001b[0;34m\u001b[0m\u001b[0m\n\u001b[0m",
      "\u001b[0;31mNameError\u001b[0m: name 'sqrt' is not defined"
     ]
    }
   ],
   "source": [
    "sqrt(2)"
   ]
  },
  {
   "cell_type": "markdown",
   "metadata": {},
   "source": [
    "#### Forma 2\n"
   ]
  },
  {
   "cell_type": "code",
   "execution_count": 90,
   "metadata": {},
   "outputs": [
    {
     "data": {
      "text/plain": [
       "2.718281828459045"
      ]
     },
     "execution_count": 90,
     "metadata": {},
     "output_type": "execute_result"
    }
   ],
   "source": [
    "import math as m\n",
    "\n",
    "# Forma de llamar una funcion de esta forma\n",
    "m.exp(1)"
   ]
  },
  {
   "cell_type": "markdown",
   "metadata": {},
   "source": [
    "#### Forma 3\n",
    "\n",
    "Observe que de esta forma si se puede hacer uso solamente del nombre de la funcion. Tenga en cuenta que solo estas dos funciones de math son las que se importaron, el resto no han sido cargadas."
   ]
  },
  {
   "cell_type": "code",
   "execution_count": 92,
   "metadata": {},
   "outputs": [
    {
     "name": "stdout",
     "output_type": "stream",
     "text": [
      "1.4142135623730951\n",
      "2.718281828459045\n"
     ]
    },
    {
     "ename": "NameError",
     "evalue": "name 'log10' is not defined",
     "output_type": "error",
     "traceback": [
      "\u001b[0;31m---------------------------------------------------------------------------\u001b[0m",
      "\u001b[0;31mNameError\u001b[0m                                 Traceback (most recent call last)",
      "\u001b[0;32m<ipython-input-92-e0bcd4aa5cd0>\u001b[0m in \u001b[0;36m<module>\u001b[0;34m\u001b[0m\n\u001b[1;32m      3\u001b[0m \u001b[0mprint\u001b[0m\u001b[0;34m(\u001b[0m\u001b[0msqrt\u001b[0m\u001b[0;34m(\u001b[0m\u001b[0;36m2\u001b[0m\u001b[0;34m)\u001b[0m\u001b[0;34m)\u001b[0m\u001b[0;34m\u001b[0m\u001b[0;34m\u001b[0m\u001b[0m\n\u001b[1;32m      4\u001b[0m \u001b[0mprint\u001b[0m\u001b[0;34m(\u001b[0m\u001b[0mexp\u001b[0m\u001b[0;34m(\u001b[0m\u001b[0;36m1\u001b[0m\u001b[0;34m)\u001b[0m\u001b[0;34m)\u001b[0m\u001b[0;34m\u001b[0m\u001b[0;34m\u001b[0m\u001b[0m\n\u001b[0;32m----> 5\u001b[0;31m \u001b[0mprint\u001b[0m\u001b[0;34m(\u001b[0m\u001b[0mlog10\u001b[0m\u001b[0;34m(\u001b[0m\u001b[0;36m4\u001b[0m\u001b[0;34m)\u001b[0m\u001b[0;34m)\u001b[0m\u001b[0;34m\u001b[0m\u001b[0;34m\u001b[0m\u001b[0m\n\u001b[0m",
      "\u001b[0;31mNameError\u001b[0m: name 'log10' is not defined"
     ]
    }
   ],
   "source": [
    "from math import sqrt,exp\n",
    "\n",
    "print(sqrt(2))\n",
    "print(exp(1))\n",
    "print(log10(4))"
   ]
  },
  {
   "cell_type": "markdown",
   "metadata": {},
   "source": [
    "Si se quieren cargar o importar todas las funciones de la libreria, se procede de la siguiente forma:"
   ]
  },
  {
   "cell_type": "code",
   "execution_count": 94,
   "metadata": {},
   "outputs": [
    {
     "name": "stdout",
     "output_type": "stream",
     "text": [
      "1.4142135623730951\n",
      "2.718281828459045\n",
      "0.6020599913279624\n"
     ]
    }
   ],
   "source": [
    "from math import *\n",
    "\n",
    "print(sqrt(2))\n",
    "print(exp(1))\n",
    "print(log10(4))"
   ]
  },
  {
   "cell_type": "markdown",
   "metadata": {},
   "source": [
    "Note que todas las funciones fueron cargadas, haciendo uso del **comodin** \"*\""
   ]
  },
  {
   "cell_type": "code",
   "execution_count": null,
   "metadata": {},
   "outputs": [],
   "source": []
  }
 ],
 "metadata": {
  "kernelspec": {
   "display_name": "Python 3",
   "language": "python",
   "name": "python3"
  },
  "language_info": {
   "codemirror_mode": {
    "name": "ipython",
    "version": 3
   },
   "file_extension": ".py",
   "mimetype": "text/x-python",
   "name": "python",
   "nbconvert_exporter": "python",
   "pygments_lexer": "ipython3",
   "version": "3.8.5"
  }
 },
 "nbformat": 4,
 "nbformat_minor": 4
}
